{
 "cells": [
  {
   "cell_type": "markdown",
   "metadata": {},
   "source": [
    "### Section 0: Loading packages and testing earth engine connection"
   ]
  },
  {
   "cell_type": "code",
   "execution_count": null,
   "metadata": {},
   "outputs": [],
   "source": [
    "%load_ext autoreload\n",
    "%autoreload 2"
   ]
  },
  {
   "cell_type": "code",
   "execution_count": null,
   "metadata": {},
   "outputs": [],
   "source": [
    "import ee\n",
    "import earthlib as eli\n",
    "import geemap"
   ]
  },
  {
   "cell_type": "code",
   "execution_count": null,
   "metadata": {},
   "outputs": [],
   "source": [
    "# OPTIONAL: authenticate earth engine api access (not required on every run)\n",
    "ee.Authenticate()"
   ]
  },
  {
   "cell_type": "code",
   "execution_count": null,
   "metadata": {},
   "outputs": [],
   "source": [
    "# initialize earth engine api access (required on every run)\n",
    "ee.Initialize()\n",
    "\n",
    "# test whether the initialization was successful by printing the elevation of Mount Everest\n",
    "dem = ee.Image('USGS/SRTMGL1_003')\n",
    "xy = ee.Geometry.Point([86.9250, 27.9881])\n",
    "elev = dem.sample(xy, 30).first().get('elevation').getInfo()\n",
    "print('Point location elevation (m):', elev)"
   ]
  },
  {
   "cell_type": "markdown",
   "metadata": {},
   "source": [
    "### Section 1: unmixing one image"
   ]
  },
  {
   "cell_type": "code",
   "execution_count": null,
   "metadata": {},
   "outputs": [],
   "source": [
    "# select the sensor to use\n",
    "sensor = 'Landsat8'\n",
    "collection = eli.getCollection(sensor)\n",
    "bands = eli.getBands(sensor)\n",
    "scaler = eli.Scale.bySensor(sensor)\n",
    "cloudMask = eli.CloudMask.bySensor(sensor)\n",
    "shadeMask = eli.ShadeMask.bySensor(sensor)\n",
    "brightMask = eli.BrightMask.bySensor(sensor)\n",
    "BRDF = eli.BRDFCorrect.bySensor(sensor)\n",
    "NIRv = eli.NIRv.bySensor(sensor)\n",
    "visBands = [\"SR_B6\", \"SR_B5\", \"SR_B4\"] # Landsat-8\n",
    "#visBands = [\"Nadir_Reflectance_Band6\", \"Nadir_Reflectance_Band2\", \"Nadir_Reflectance_Band1\"] # MODIS\n",
    "#visBands = [\"B11\", \"B8\", \"B4\"] # Sentinel-2\n",
    "\n",
    "# set the dates\n",
    "startDate = \"2021-01-01\";\n",
    "endDate = \"2021-09-01\";\n",
    "\n",
    "# get a land mask to use\n",
    "land = ee.Image(\"UMD/hansen/global_forest_change_2019_v1_7\").select([\"datamask\"]).eq(1)\n",
    "\n",
    "# create and filter the image collection\n",
    "filtered = collection.filterDate(startDate, endDate).map(cloudMask).select(bands)\n",
    "correction = filtered.map(BRDF)"
   ]
  },
  {
   "cell_type": "code",
   "execution_count": null,
   "metadata": {
    "scrolled": false
   },
   "outputs": [],
   "source": [
    "# create a composite\n",
    "sr = filtered.map(scaler).map(shadeMask).map(brightMask).map(eli.CloudMask.Opening).median()\n",
    "src = correction.map(scaler).median()\n",
    "\n",
    "# Set visualization parameters.\n",
    "visParams = {\n",
    "  'min': 0,\n",
    "  'max': 0.5,\n",
    "  'bands': visBands,\n",
    "}\n",
    "\n",
    "# Create a folium map object.\n",
    "Map = geemap.Map(center=[37.5, -118], zoom=6)\n",
    "\n",
    "# Add the image to the map object.\n",
    "Map.addLayer(sr, visParams, sensor)\n",
    "Map.addLayer(src, visParams, f'{sensor} corrected')\n",
    "\n",
    "# Display the map.\n",
    "display(Map)"
   ]
  },
  {
   "cell_type": "markdown",
   "metadata": {},
   "source": [
    "now we'll actually unmix the image using the first spectra from each bundle"
   ]
  },
  {
   "cell_type": "code",
   "execution_count": null,
   "metadata": {
    "scrolled": true
   },
   "outputs": [],
   "source": [
    "# initialize the spectral bundle selection\n",
    "eli.Unmix.Initialize(sensor, 10, bands)\n",
    "\n",
    "# unmix the thing\n",
    "unmixed = eli.Unmix.SVN(src, shade_normalize=True).updateMask(land)\n",
    "\n",
    "# map it\n",
    "visParams = {'min': [0, 0.1, 0], 'max': [0.8, 1, 0.8]}\n",
    "Map.addLayer(unmixed, visParams, 'unmixed')\n",
    "display(Map)"
   ]
  }
 ],
 "metadata": {
  "kernelspec": {
   "display_name": "Python 3 (ipykernel)",
   "language": "python",
   "name": "python3"
  },
  "language_info": {
   "codemirror_mode": {
    "name": "ipython",
    "version": 3
   },
   "file_extension": ".py",
   "mimetype": "text/x-python",
   "name": "python",
   "nbconvert_exporter": "python",
   "pygments_lexer": "ipython3",
   "version": "3.7.12"
  }
 },
 "nbformat": 4,
 "nbformat_minor": 4
}

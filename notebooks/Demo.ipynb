{
 "cells": [
  {
   "cell_type": "markdown",
   "metadata": {},
   "source": [
    "### Section 0: Loading packages and testing earth engine connection"
   ]
  },
  {
   "cell_type": "code",
   "execution_count": null,
   "metadata": {},
   "outputs": [],
   "source": [
    "%load_ext autoreload\n",
    "%autoreload 2"
   ]
  },
  {
   "cell_type": "code",
   "execution_count": null,
   "metadata": {},
   "outputs": [],
   "source": [
    "import ee\n",
    "import earthlib as eli\n",
    "import geemap"
   ]
  },
  {
   "cell_type": "code",
   "execution_count": null,
   "metadata": {},
   "outputs": [],
   "source": [
    "# OPTIONAL: authenticate earth engine api access (not required on every run)\n",
    "# ee.Authenticate()\n",
    "\n",
    "# initialize earth engine api access (required on every run)\n",
    "ee.Initialize()\n",
    "\n",
    "# test whether the initialization was successful by printing the elevation of Mount Everest\n",
    "dem = ee.Image('USGS/SRTMGL1_003')\n",
    "xy = ee.Geometry.Point([86.9250, 27.9881])\n",
    "elev = dem.sample(xy, 30).first().get('elevation').getInfo()\n",
    "print('Point location elevation (m):', elev)"
   ]
  },
  {
   "cell_type": "markdown",
   "metadata": {},
   "source": [
    "### Section 1: Dataset preparation"
   ]
  },
  {
   "cell_type": "code",
   "execution_count": null,
   "metadata": {},
   "outputs": [],
   "source": [
    "# select the sensor to use\n",
    "sensor = 'Landsat8'\n",
    "collection = eli.getCollection(sensor)\n",
    "bands = eli.getBands(sensor)\n",
    "scaler = eli.Scale.bySensor(sensor)\n",
    "cloudMask = eli.CloudMask.bySensor(sensor)\n",
    "\n",
    "# set the dates\n",
    "startDate = \"2021-01-01\";\n",
    "endDate = \"2021-09-01\";\n",
    "\n",
    "# get a land mask to use\n",
    "land = ee.Image(\"UMD/hansen/global_forest_change_2019_v1_7\").select([\"datamask\"]).eq(1)\n",
    "\n",
    "# create and filter the image collection\n",
    "filtered = collection.filterDate(startDate, endDate).map(cloudMask).select(bands)\n",
    "\n",
    "# create a median composite\n",
    "sr = filtered.map(scaler).median()"
   ]
  },
  {
   "cell_type": "markdown",
   "metadata": {},
   "source": [
    "### Section 2: Mapping the input data"
   ]
  },
  {
   "cell_type": "code",
   "execution_count": null,
   "metadata": {
    "scrolled": false
   },
   "outputs": [],
   "source": [
    "# set SR visualization parameters.\n",
    "visBands = [\"SR_B6\", \"SR_B5\", \"SR_B4\"] # Landsat-8\n",
    "#visBands = [\"Nadir_Reflectance_Band6\", \"Nadir_Reflectance_Band2\", \"Nadir_Reflectance_Band1\"] # MODIS\n",
    "#visBands = [\"B11\", \"B8\", \"B4\"] # Sentinel-2\n",
    "visParams = {\n",
    "  'min': 0,\n",
    "  'max': 0.5,\n",
    "  'bands': visBands,\n",
    "}\n",
    "\n",
    "# Create a folium map object.\n",
    "Map = geemap.Map(center=[37.5, -118], zoom=6)\n",
    "\n",
    "# Add the image to the map object.\n",
    "Map.addLayer(sr, visParams, sensor)\n",
    "\n",
    "# Display the map.\n",
    "display(Map)"
   ]
  },
  {
   "cell_type": "markdown",
   "metadata": {},
   "source": [
    "### Section 3: Estimating pixel-level fractional cover"
   ]
  },
  {
   "cell_type": "code",
   "execution_count": null,
   "metadata": {},
   "outputs": [],
   "source": [
    "SoilPVNPV = eli.SoilPVNPV.bySensor(sensor)\n",
    "unmixed = SoilPVNPV(sr)\n",
    "\n",
    "visParams = {'min': [0, 0.1, 0], 'max': [0.8, 1, 0.8]}\n",
    "Map.addLayer(unmixed.select([0,1,2]), visParams, 'unmixed')\n",
    "\n",
    "# the map object from the cell above should update"
   ]
  }
 ],
 "metadata": {
  "kernelspec": {
   "display_name": "Python 3 (ipykernel)",
   "language": "python",
   "name": "python3"
  },
  "language_info": {
   "codemirror_mode": {
    "name": "ipython",
    "version": 3
   },
   "file_extension": ".py",
   "mimetype": "text/x-python",
   "name": "python",
   "nbconvert_exporter": "python",
   "pygments_lexer": "ipython3",
   "version": "3.7.12"
  }
 },
 "nbformat": 4,
 "nbformat_minor": 4
}

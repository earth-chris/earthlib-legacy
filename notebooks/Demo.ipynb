{
 "cells": [
  {
   "cell_type": "markdown",
   "metadata": {},
   "source": [
    "### Section 0: Loading packages and testing earth engine connection"
   ]
  },
  {
   "cell_type": "code",
   "execution_count": null,
   "metadata": {},
   "outputs": [],
   "source": [
    "%load_ext autoreload\n",
    "%autoreload 2"
   ]
  },
  {
   "cell_type": "code",
   "execution_count": null,
   "metadata": {},
   "outputs": [],
   "source": [
    "import ee\n",
    "import earthlib as eli\n",
<<<<<<< HEAD
    "import geemap"
=======
    "import folium"
>>>>>>> truncated history
   ]
  },
  {
   "cell_type": "code",
   "execution_count": null,
   "metadata": {},
   "outputs": [],
   "source": [
<<<<<<< HEAD
    "# OPTIONAL: authenticate earth engine api access (not required on every run)\n",
=======
    "# authenticate earth engine api access (not required on every run)\n",
>>>>>>> truncated history
    "ee.Authenticate()"
   ]
  },
  {
   "cell_type": "code",
   "execution_count": null,
   "metadata": {},
   "outputs": [],
   "source": [
    "# initialize earth engine api access (required on every run)\n",
<<<<<<< HEAD
    "ee.Initialize()\n",
    "\n",
=======
    "ee.Initialize()"
   ]
  },
  {
   "cell_type": "code",
   "execution_count": null,
   "metadata": {},
   "outputs": [],
   "source": [
>>>>>>> truncated history
    "# test whether the initialization was successful by printing the elevation of Mount Everest\n",
    "dem = ee.Image('USGS/SRTMGL1_003')\n",
    "xy = ee.Geometry.Point([86.9250, 27.9881])\n",
    "elev = dem.sample(xy, 30).first().get('elevation').getInfo()\n",
<<<<<<< HEAD
    "print('Point location elevation (m):', elev)"
=======
    "print('Mount Everest elevation (m):', elev)"
>>>>>>> truncated history
   ]
  },
  {
   "cell_type": "markdown",
   "metadata": {},
   "source": [
    "### Section 1: unmixing one image"
   ]
  },
  {
   "cell_type": "code",
   "execution_count": null,
   "metadata": {},
   "outputs": [],
   "source": [
    "# select the sensor to use\n",
<<<<<<< HEAD
    "sensor = 'MODIS'\n",
    "collection = eli.getCollection(sensor)\n",
    "bands = eli.getBands(sensor)\n",
    "scaler = eli.Scale.bySensor(sensor)\n",
    "cloudMask = eli.CloudMask.bySensor(sensor)\n",
    "shadeMask = eli.ShadeMask.bySensor(sensor)\n",
    "brightMask = eli.BrightMask.bySensor(sensor)\n",
    "#BRDF = eli.BRDFCorrect.bySensor(sensor)\n",
    "NIRv = eli.NIRv.bySensor(sensor)\n",
    "\n",
    "#visBands = [\"SR_B6\", \"SR_B5\", \"SR_B4\"] # Landsat-8\n",
    "visBands = [\"sur_refl_b06\", \"sur_refl_b02\", \"sur_refl_b01\"] # MODIS\n",
    "#visBands = [\"B11\", \"B8\", \"B4\"] # Sentinel-2\n",
    "\n",
    "# set the dates\n",
    "startDate = \"2020-01-01\";\n",
    "endDate = \"2022-09-01\";\n",
=======
    "sensor = 'Sentinel2'\n",
    "collectionName = eli.getCollection(sensor)\n",
    "bands = eli.getBands(sensor)\n",
    "scaler = eli.getScaler(sensor)\n",
    "maskFunction = eli.Mask.bySensor(sensor)\n",
    "#visBands = [\"B6\", \"B5\", \"B4\"] # Landsat-8\n",
    "#visBands = [\"sur_refl_b06\", \"sur_refl_b05\", \"sur_refl_b01\"] # MODIS\n",
    "visBands = [\"B11\", \"B8\", \"B4\"] # Sentinel-2\n",
    "\n",
    "# set the dates\n",
    "startDate = \"2021-01-01\";\n",
    "endDate = \"2021-07-01\";\n",
>>>>>>> truncated history
    "\n",
    "# get a land mask to use\n",
    "land = ee.Image(\"UMD/hansen/global_forest_change_2019_v1_7\").select([\"datamask\"]).eq(1)\n",
    "\n",
    "# create and filter the image collection\n",
<<<<<<< HEAD
    "filtered = collection.filterDate(startDate, endDate).map(cloudMask).select(bands)"
=======
    "collection = ee.ImageCollection(collectionName).filterDate(startDate, endDate).map(maskFunction).select(bands)"
>>>>>>> truncated history
   ]
  },
  {
   "cell_type": "code",
   "execution_count": null,
<<<<<<< HEAD
   "metadata": {
    "scrolled": false
   },
   "outputs": [],
   "source": [
    "# create a composite\n",
    "sr = filtered.map(scaler).map(shadeMask).map(brightMask).median()\n",
    "#src = filtered.map(BRDF).map(scaler).median()\n",
=======
   "metadata": {},
   "outputs": [],
   "source": [
    "# create a composite\n",
    "sr = collection.median().multiply(scaler).updateMask(land)\n",
    "\n",
    "# map it\n",
    "folium.Map.addLayer = eli.Map.addLayer\n",
>>>>>>> truncated history
    "\n",
    "# Set visualization parameters.\n",
    "visParams = {\n",
    "  'min': 0,\n",
    "  'max': 0.5,\n",
<<<<<<< HEAD
    "  'bands': visBands,\n",
    "}\n",
    "\n",
    "# Create a folium map object.\n",
    "Map = geemap.Map(center=[37.5, -118], zoom=7)\n",
    "\n",
    "# Add the image to the map object.\n",
    "Map.addLayer(sr, visParams, sensor)\n",
    "#Map.addLayer(src, visParams, f'{sensor} corrected')\n",
=======
    "  'bands': visBands\n",
    "}\n",
    "\n",
    "# Create a folium map object.\n",
    "Map = folium.Map(location=[37.5, -118], zoom_start=6, height=500, tiles='Stamen Toner')\n",
    "\n",
    "# Add the image to the map object.\n",
    "Map.addLayer(sr, visParams, sensor)\n",
    "\n",
    "# Add a layer control panel to the map.\n",
    "Map.add_child(folium.LayerControl())\n",
>>>>>>> truncated history
    "\n",
    "# Display the map.\n",
    "display(Map)"
   ]
  },
  {
   "cell_type": "markdown",
   "metadata": {},
   "source": [
    "now we'll actually unmix the image using the first spectra from each bundle"
   ]
  },
  {
   "cell_type": "code",
   "execution_count": null,
<<<<<<< HEAD
   "metadata": {
    "scrolled": true
   },
   "outputs": [],
   "source": [
    "# initialize the spectral bundle selection\n",
    "eli.Unmix.Initialize(sensor, 10, bands)\n",
    "\n",
    "# unmix the thing\n",
    "unmixed = eli.Unmix.SVN(src, shade_normalize=True)#.updateMask(land)\n",
    "\n",
    "# map it\n",
    "visParams = {'min': [0, 0.1, 0], 'max': [0.8, 1, 0.8]}\n",
    "Map.addLayer(unmixed, visParams, 'unmixed')\n",
=======
   "metadata": {},
   "outputs": [],
   "source": [
    "# initialize the spectral bundle selection\n",
    "eli.Unmix.Initialize(sensor, 15, bands)\n",
    "\n",
    "# unmix the thing\n",
    "unmixed = eli.Unmix.SVN(sr, shade_normalize=True).updateMask(land)\n",
    "\n",
    "# map it\n",
    "visParams = {'min': [0, 0.1, 0], 'max': [0.8, 1, 0.8]}\n",
    "#Map = folium.Map(location=[37.5, -119], zoom_start=7, height=500)\n",
    "Map.addLayer(unmixed, visParams, 'unmixed')\n",
    "Map.add_child(folium.LayerControl())\n",
    "display(Map)"
   ]
  },
  {
   "cell_type": "code",
   "execution_count": null,
   "metadata": {},
   "outputs": [],
   "source": [
    "xy = ee.Geometry.Point([37.5, -119])\n",
    "vals = unmixed.sample(xy, 30).select([\"sum\"]).first().getInfo()\n",
    "print(vals)\n",
    "print(unmixed.getInfo())"
   ]
  },
  {
   "cell_type": "code",
   "execution_count": null,
   "metadata": {},
   "outputs": [],
   "source": [
    "# check out the modeled reflectance\n",
    "\n",
    "# Set visualization parameters.\n",
    "visParams = {\n",
    "  'min': 0,\n",
    "  'max': 0.35,\n",
    "  'bands': visBands\n",
    "}\n",
    "\n",
    "visUnmixed = {\n",
    "  'min': 0,\n",
    "  'max': 0.35,\n",
    "  'bands': [\"RMSE\"]\n",
    "}\n",
    "\n",
    "# Create a folium map object.\n",
    "Map = folium.Map(location=[37.5, -118], zoom_start=6, height=500)\n",
    "\n",
    "# Add the image to the map object.\n",
    "Map.addLayer(sr, visParams, sensor)\n",
    "Map.addLayer(unmixed, visUnmixed, \"unmixed\")\n",
    "\n",
    "# Add a layer control panel to the map.\n",
    "Map.add_child(folium.LayerControl())\n",
    "\n",
    "# Display the map.\n",
>>>>>>> truncated history
    "display(Map)"
   ]
  }
 ],
 "metadata": {
  "kernelspec": {
<<<<<<< HEAD
   "display_name": "Python 3 (ipykernel)",
=======
   "display_name": "Python 3",
>>>>>>> truncated history
   "language": "python",
   "name": "python3"
  },
  "language_info": {
   "codemirror_mode": {
    "name": "ipython",
    "version": 3
   },
   "file_extension": ".py",
   "mimetype": "text/x-python",
   "name": "python",
   "nbconvert_exporter": "python",
   "pygments_lexer": "ipython3",
<<<<<<< HEAD
   "version": "3.7.12"
=======
   "version": "3.7.6"
>>>>>>> truncated history
  }
 },
 "nbformat": 4,
 "nbformat_minor": 4
}

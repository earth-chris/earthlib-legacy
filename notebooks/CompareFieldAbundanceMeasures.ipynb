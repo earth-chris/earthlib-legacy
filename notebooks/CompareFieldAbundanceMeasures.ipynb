{
 "cells": [
  {
   "cell_type": "markdown",
   "id": "b727b60e",
   "metadata": {},
   "source": [
    "# CompareFieldAbundanceMeasures\n",
    "\n",
    "Australia's Terrestrial Ecosystem Research Network (TERN) hosts field survey data with vegetation cover estimates, which was used to validate their national vegetation cover mapping system. In this notebook we'll extract Bare-PV-NPV values from `earthlib` unmixing and from CSIRO's Australia-wide data, then comparing how well they map onto the field-estimated values."
   ]
  },
  {
   "cell_type": "code",
   "execution_count": 103,
   "id": "b5663f90",
   "metadata": {},
   "outputs": [],
   "source": [
    "# packages\n",
    "import os\n",
    "\n",
    "import numpy as np\n",
    "import pandas as pd\n",
    "import geopandas as gpd\n",
    "from sklearn import metrics\n",
    "import elapid as ela\n",
    "from shapely.geometry import Point\n",
    "import matplotlib.pyplot as plt"
   ]
  },
  {
   "cell_type": "code",
   "execution_count": 96,
   "id": "50840e8c",
   "metadata": {},
   "outputs": [],
   "source": [
    "# set file and download paths\n",
    "earthlib_dir = '/home/cba/src/earthlib'\n",
    "data_dir = os.path.join(earthlib_dir, 'data')\n",
    "field_data_path = os.path.join(data_dir, 'Vegetation-Communities-1.csv')\n",
    "field_cover_path = os.path.join(data_dir, 'TERN-field-data.gpkg')\n",
    "anno_cover_path = os.path.join(data_dir, 'TERN-field-data-annotated.gpkg')\n",
    "\n",
    "# data processing parameters\n",
    "year = 2010\n",
    "months = range(1, 13)\n",
    "gda94 = '+proj=longlat +ellps=GRS80 +no_defs +type=crs'"
   ]
  },
  {
   "cell_type": "markdown",
   "id": "29b7cb7e",
   "metadata": {},
   "source": [
    "## Formatting the data\n",
    "\n",
    "The TERN field data were collected over several years. Since we've already pulled data for each month over the year of 2010, we'll temporally align each plot to the corresponding month. This is a bit imprecise, as the data were collected over a four year period, but I hope that this will be sufficient for now."
   ]
  },
  {
   "cell_type": "code",
   "execution_count": null,
   "id": "c6c161d1",
   "metadata": {},
   "outputs": [],
   "source": [
    "# FORGET SOME OF THE BELOW, GONNA HAVE TO CREATE A NEW FILE FROM `Vegetation-Communities_1`\n",
    "# WHERE WE AVERAGE THE TRANSECT COVER VALUES USING THE PLOT ID AS A GROUPBY"
   ]
  },
  {
   "cell_type": "code",
   "execution_count": 23,
   "id": "5a8e1e54",
   "metadata": {},
   "outputs": [
    {
     "name": "stderr",
     "output_type": "stream",
     "text": [
      "/home/cba/src/miniconda3/envs/earthlib/lib/python3.7/site-packages/IPython/core/interactiveshell.py:3524: DtypeWarning: Columns (0,7,8,12,14,15,17,18,19,20,21,22,23,24,25,26,27,28,29,30,31,32,33,34,35,36,38,39,40,41,42,43,44,45,46,48,49,50,51,52,53,54,55,56,57,58,59,60,61,62,63,65,66,67,68,70,71,72,73,74,75,76,77,79,80,81,82,83,84,85,86) have mixed types.Specify dtype option on import or set low_memory=False.\n",
      "  exec(code_obj, self.user_global_ns, self.user_ns)\n"
     ]
    },
    {
     "data": {
      "text/html": [
       "<div>\n",
       "<style scoped>\n",
       "    .dataframe tbody tr th:only-of-type {\n",
       "        vertical-align: middle;\n",
       "    }\n",
       "\n",
       "    .dataframe tbody tr th {\n",
       "        vertical-align: top;\n",
       "    }\n",
       "\n",
       "    .dataframe thead th {\n",
       "        text-align: right;\n",
       "    }\n",
       "</style>\n",
       "<table border=\"1\" class=\"dataframe\">\n",
       "  <thead>\n",
       "    <tr style=\"text-align: right;\">\n",
       "      <th></th>\n",
       "      <th>TERN AEKOS Vegetation Community ID</th>\n",
       "      <th>TERN AEKOS Site ID</th>\n",
       "      <th>TERN AEKOS Site Visit ID</th>\n",
       "      <th>Custodian Site ID</th>\n",
       "      <th>Custodian Visit ID</th>\n",
       "      <th>Custodian Survey Name</th>\n",
       "      <th>Visit Date</th>\n",
       "      <th>Longitude (Decimal Degrees)</th>\n",
       "      <th>Latitude (Decimal Degrees)</th>\n",
       "      <th>Coordinate Reliability</th>\n",
       "      <th>...</th>\n",
       "      <th>Vegetation Structure Comment</th>\n",
       "      <th>Vegetation Structural Complexity Category</th>\n",
       "      <th>Dominant Life Form Category</th>\n",
       "      <th>Dominant Life Form Comment</th>\n",
       "      <th>Vegetation Age Structure Comment</th>\n",
       "      <th>Dominant Community Upper Stratum Comment</th>\n",
       "      <th>Dominant Community Lower Stratum Comment</th>\n",
       "      <th>Colour Comment</th>\n",
       "      <th>Method Name</th>\n",
       "      <th>Vegetation Community Comment</th>\n",
       "    </tr>\n",
       "  </thead>\n",
       "  <tbody>\n",
       "    <tr>\n",
       "      <th>0</th>\n",
       "      <td>TERN AEKOS-internal, unique identifier for the...</td>\n",
       "      <td>Unique, persistent URL identifier in TERN AEKO...</td>\n",
       "      <td>Unique identifier created in TERN AEKOS for a ...</td>\n",
       "      <td>Site identifier allocated by the custodian. No...</td>\n",
       "      <td>Visit identifier allocated by the custodian.</td>\n",
       "      <td>Custodian name of the ecological survey used t...</td>\n",
       "      <td>Date (and time, if available) of the visit to ...</td>\n",
       "      <td>Longitudinal coordinate of the site in decimal...</td>\n",
       "      <td>Latitudinal coordinate of the site in decimal ...</td>\n",
       "      <td>Comments on the accuracy of the coordinate inf...</td>\n",
       "      <td>...</td>\n",
       "      <td>Vegetation structureï¿½isï¿½definedï¿½as the o...</td>\n",
       "      <td>Measure of the number of different structural ...</td>\n",
       "      <td>The most commonly occurring life form within a...</td>\n",
       "      <td>The most commonly occurring life form within a...</td>\n",
       "      <td>Age structure of a vegetation community.</td>\n",
       "      <td>Description or name of the vegetation communit...</td>\n",
       "      <td>Description or name of the vegetation communit...</td>\n",
       "      <td>The colour of a vegetation community.</td>\n",
       "      <td>The name of the method used to collect the veg...</td>\n",
       "      <td>Any additional information related to the vege...</td>\n",
       "    </tr>\n",
       "    <tr>\n",
       "      <th>1</th>\n",
       "      <td>1557197549126</td>\n",
       "      <td>aekos.org.au/collection/gov.au/abares/gcrs_NSW...</td>\n",
       "      <td>aekos.org.au/collection/gov.au/abares/gcrs_NSW...</td>\n",
       "      <td>NSW006</td>\n",
       "      <td>19-04-2011</td>\n",
       "      <td>Ground Cover Reference Sites Database of New S...</td>\n",
       "      <td>19-04-2011</td>\n",
       "      <td>142.32553</td>\n",
       "      <td>-32.44017</td>\n",
       "      <td>Unknown</td>\n",
       "      <td>...</td>\n",
       "      <td>NaN</td>\n",
       "      <td>NaN</td>\n",
       "      <td>NaN</td>\n",
       "      <td>NaN</td>\n",
       "      <td>NaN</td>\n",
       "      <td>NaN</td>\n",
       "      <td>NaN</td>\n",
       "      <td>NaN</td>\n",
       "      <td>Cover Assessment Method</td>\n",
       "      <td>NaN</td>\n",
       "    </tr>\n",
       "    <tr>\n",
       "      <th>2</th>\n",
       "      <td>1557197549157</td>\n",
       "      <td>aekos.org.au/collection/gov.au/abares/gcrs_NSW...</td>\n",
       "      <td>aekos.org.au/collection/gov.au/abares/gcrs_NSW...</td>\n",
       "      <td>NSW006</td>\n",
       "      <td>19-04-2011</td>\n",
       "      <td>Ground Cover Reference Sites Database of New S...</td>\n",
       "      <td>19-04-2011</td>\n",
       "      <td>142.32553</td>\n",
       "      <td>-32.44017</td>\n",
       "      <td>Unknown</td>\n",
       "      <td>...</td>\n",
       "      <td>NaN</td>\n",
       "      <td>NaN</td>\n",
       "      <td>NaN</td>\n",
       "      <td>NaN</td>\n",
       "      <td>NaN</td>\n",
       "      <td>NaN</td>\n",
       "      <td>NaN</td>\n",
       "      <td>NaN</td>\n",
       "      <td>Cover Assessment Method</td>\n",
       "      <td>NaN</td>\n",
       "    </tr>\n",
       "    <tr>\n",
       "      <th>3</th>\n",
       "      <td>1557197549187</td>\n",
       "      <td>aekos.org.au/collection/gov.au/abares/gcrs_NSW...</td>\n",
       "      <td>aekos.org.au/collection/gov.au/abares/gcrs_NSW...</td>\n",
       "      <td>NSW006</td>\n",
       "      <td>19-04-2011</td>\n",
       "      <td>Ground Cover Reference Sites Database of New S...</td>\n",
       "      <td>19-04-2011</td>\n",
       "      <td>142.32553</td>\n",
       "      <td>-32.44017</td>\n",
       "      <td>Unknown</td>\n",
       "      <td>...</td>\n",
       "      <td>NaN</td>\n",
       "      <td>NaN</td>\n",
       "      <td>NaN</td>\n",
       "      <td>NaN</td>\n",
       "      <td>NaN</td>\n",
       "      <td>NaN</td>\n",
       "      <td>NaN</td>\n",
       "      <td>NaN</td>\n",
       "      <td>Cover Assessment Method</td>\n",
       "      <td>NaN</td>\n",
       "    </tr>\n",
       "    <tr>\n",
       "      <th>4</th>\n",
       "      <td>1557197549432</td>\n",
       "      <td>aekos.org.au/collection/gov.au/abares/gcrs_NSW...</td>\n",
       "      <td>aekos.org.au/collection/gov.au/abares/gcrs_NSW...</td>\n",
       "      <td>NSW006</td>\n",
       "      <td>19-04-2011</td>\n",
       "      <td>Ground Cover Reference Sites Database of New S...</td>\n",
       "      <td>19-04-2011</td>\n",
       "      <td>142.32553</td>\n",
       "      <td>-32.44017</td>\n",
       "      <td>Unknown</td>\n",
       "      <td>...</td>\n",
       "      <td>NaN</td>\n",
       "      <td>NaN</td>\n",
       "      <td>NaN</td>\n",
       "      <td>NaN</td>\n",
       "      <td>NaN</td>\n",
       "      <td>NaN</td>\n",
       "      <td>NaN</td>\n",
       "      <td>NaN</td>\n",
       "      <td>Cover Assessment Method</td>\n",
       "      <td>NaN</td>\n",
       "    </tr>\n",
       "  </tbody>\n",
       "</table>\n",
       "<p>5 rows × 90 columns</p>\n",
       "</div>"
      ],
      "text/plain": [
       "                  TERN AEKOS Vegetation Community ID  \\\n",
       "0  TERN AEKOS-internal, unique identifier for the...   \n",
       "1                                      1557197549126   \n",
       "2                                      1557197549157   \n",
       "3                                      1557197549187   \n",
       "4                                      1557197549432   \n",
       "\n",
       "                                  TERN AEKOS Site ID  \\\n",
       "0  Unique, persistent URL identifier in TERN AEKO...   \n",
       "1  aekos.org.au/collection/gov.au/abares/gcrs_NSW...   \n",
       "2  aekos.org.au/collection/gov.au/abares/gcrs_NSW...   \n",
       "3  aekos.org.au/collection/gov.au/abares/gcrs_NSW...   \n",
       "4  aekos.org.au/collection/gov.au/abares/gcrs_NSW...   \n",
       "\n",
       "                            TERN AEKOS Site Visit ID  \\\n",
       "0  Unique identifier created in TERN AEKOS for a ...   \n",
       "1  aekos.org.au/collection/gov.au/abares/gcrs_NSW...   \n",
       "2  aekos.org.au/collection/gov.au/abares/gcrs_NSW...   \n",
       "3  aekos.org.au/collection/gov.au/abares/gcrs_NSW...   \n",
       "4  aekos.org.au/collection/gov.au/abares/gcrs_NSW...   \n",
       "\n",
       "                                   Custodian Site ID  \\\n",
       "0  Site identifier allocated by the custodian. No...   \n",
       "1                                             NSW006   \n",
       "2                                             NSW006   \n",
       "3                                             NSW006   \n",
       "4                                             NSW006   \n",
       "\n",
       "                             Custodian Visit ID  \\\n",
       "0  Visit identifier allocated by the custodian.   \n",
       "1                                    19-04-2011   \n",
       "2                                    19-04-2011   \n",
       "3                                    19-04-2011   \n",
       "4                                    19-04-2011   \n",
       "\n",
       "                               Custodian Survey Name  \\\n",
       "0  Custodian name of the ecological survey used t...   \n",
       "1  Ground Cover Reference Sites Database of New S...   \n",
       "2  Ground Cover Reference Sites Database of New S...   \n",
       "3  Ground Cover Reference Sites Database of New S...   \n",
       "4  Ground Cover Reference Sites Database of New S...   \n",
       "\n",
       "                                          Visit Date  \\\n",
       "0  Date (and time, if available) of the visit to ...   \n",
       "1                                         19-04-2011   \n",
       "2                                         19-04-2011   \n",
       "3                                         19-04-2011   \n",
       "4                                         19-04-2011   \n",
       "\n",
       "                         Longitude (Decimal Degrees)  \\\n",
       "0  Longitudinal coordinate of the site in decimal...   \n",
       "1                                          142.32553   \n",
       "2                                          142.32553   \n",
       "3                                          142.32553   \n",
       "4                                          142.32553   \n",
       "\n",
       "                          Latitude (Decimal Degrees)  \\\n",
       "0  Latitudinal coordinate of the site in decimal ...   \n",
       "1                                          -32.44017   \n",
       "2                                          -32.44017   \n",
       "3                                          -32.44017   \n",
       "4                                          -32.44017   \n",
       "\n",
       "                              Coordinate Reliability  ...  \\\n",
       "0  Comments on the accuracy of the coordinate inf...  ...   \n",
       "1                                            Unknown  ...   \n",
       "2                                            Unknown  ...   \n",
       "3                                            Unknown  ...   \n",
       "4                                            Unknown  ...   \n",
       "\n",
       "                        Vegetation Structure Comment  \\\n",
       "0  Vegetation structureï¿½isï¿½definedï¿½as the o...   \n",
       "1                                                NaN   \n",
       "2                                                NaN   \n",
       "3                                                NaN   \n",
       "4                                                NaN   \n",
       "\n",
       "           Vegetation Structural Complexity Category  \\\n",
       "0  Measure of the number of different structural ...   \n",
       "1                                                NaN   \n",
       "2                                                NaN   \n",
       "3                                                NaN   \n",
       "4                                                NaN   \n",
       "\n",
       "                         Dominant Life Form Category  \\\n",
       "0  The most commonly occurring life form within a...   \n",
       "1                                                NaN   \n",
       "2                                                NaN   \n",
       "3                                                NaN   \n",
       "4                                                NaN   \n",
       "\n",
       "                          Dominant Life Form Comment  \\\n",
       "0  The most commonly occurring life form within a...   \n",
       "1                                                NaN   \n",
       "2                                                NaN   \n",
       "3                                                NaN   \n",
       "4                                                NaN   \n",
       "\n",
       "           Vegetation Age Structure Comment  \\\n",
       "0  Age structure of a vegetation community.   \n",
       "1                                       NaN   \n",
       "2                                       NaN   \n",
       "3                                       NaN   \n",
       "4                                       NaN   \n",
       "\n",
       "            Dominant Community Upper Stratum Comment  \\\n",
       "0  Description or name of the vegetation communit...   \n",
       "1                                                NaN   \n",
       "2                                                NaN   \n",
       "3                                                NaN   \n",
       "4                                                NaN   \n",
       "\n",
       "            Dominant Community Lower Stratum Comment  \\\n",
       "0  Description or name of the vegetation communit...   \n",
       "1                                                NaN   \n",
       "2                                                NaN   \n",
       "3                                                NaN   \n",
       "4                                                NaN   \n",
       "\n",
       "                          Colour Comment  \\\n",
       "0  The colour of a vegetation community.   \n",
       "1                                    NaN   \n",
       "2                                    NaN   \n",
       "3                                    NaN   \n",
       "4                                    NaN   \n",
       "\n",
       "                                         Method Name  \\\n",
       "0  The name of the method used to collect the veg...   \n",
       "1                            Cover Assessment Method   \n",
       "2                            Cover Assessment Method   \n",
       "3                            Cover Assessment Method   \n",
       "4                            Cover Assessment Method   \n",
       "\n",
       "                        Vegetation Community Comment  \n",
       "0  Any additional information related to the vege...  \n",
       "1                                                NaN  \n",
       "2                                                NaN  \n",
       "3                                                NaN  \n",
       "4                                                NaN  \n",
       "\n",
       "[5 rows x 90 columns]"
      ]
     },
     "execution_count": 23,
     "metadata": {},
     "output_type": "execute_result"
    }
   ],
   "source": [
    "df = pd.read_csv(field_data_path)\n",
    "df.head()"
   ]
  },
  {
   "cell_type": "code",
   "execution_count": 92,
   "id": "ecbc2903",
   "metadata": {},
   "outputs": [],
   "source": [
    "# use the unique IDs for each plot to get the average veg cover value across all subplots\n",
    "cover_field = 'Vegetation Cover Value'\n",
    "id_field = 'Custodian Site ID'\n",
    "date_field = 'Visit Date'\n",
    "x_field = 'Longitude (Decimal Degrees)'\n",
    "y_field = 'Latitude (Decimal Degrees)'\n",
    "site_ids = list(df[id_field].unique())\n",
    "site_ids.sort()\n",
    "geoms = []\n",
    "covers = []\n",
    "months = []\n",
    "\n",
    "# filter out a stupid header line first\n",
    "for site_id in site_ids:\n",
    "    site = df[df[id_field] == site_id]\n",
    "    if len(site) <= 1:\n",
    "        site_ids.remove(site_id)\n",
    "        continue\n",
    "\n",
    "for site_id in site_ids:\n",
    "    site = df[df[id_field] == site_id]\n",
    "    cover = site[cover_field].dropna().astype(float).mean()\n",
    "    x = site[x_field].dropna().astype(float).mean()\n",
    "    y = site[y_field].dropna().astype(float).mean()\n",
    "    geom = Point(x, y)\n",
    "    date = str(site[date_field].astype(str).mode()[0])\n",
    "    day, month, year = date.split('-')\n",
    "    \n",
    "    covers.append(cover)\n",
    "    geoms.append(geom)\n",
    "    months.append(int(month))\n",
    "\n",
    "# and merge into a single geodataframe\n",
    "merged = gpd.GeoDataFrame(\n",
    "    pd.DataFrame({\n",
    "        'site_id': site_ids,\n",
    "        'field_cover': covers,\n",
    "        'month': months,\n",
    "    }),\n",
    "    geometry=geoms,\n",
    "    crs=gda94,\n",
    ")\n",
    "merged.to_file(field_cover_path, driver='GPKG')"
   ]
  },
  {
   "cell_type": "code",
   "execution_count": 98,
   "id": "2b0d57b4",
   "metadata": {},
   "outputs": [
    {
     "data": {
      "application/vnd.jupyter.widget-view+json": {
       "model_id": "dc848633e18146d092ee70885fb0583c",
       "version_major": 2,
       "version_minor": 0
      },
      "text/plain": [
       "Raster:   0%|          | 0/2 [00:00<?, ?it/s]"
      ]
     },
     "metadata": {},
     "output_type": "display_data"
    },
    {
     "data": {
      "application/vnd.jupyter.widget-view+json": {
       "model_id": "",
       "version_major": 2,
       "version_minor": 0
      },
      "text/plain": [
       "Geometry:   0%|          | 0/26 [00:00<?, ?it/s]"
      ]
     },
     "metadata": {},
     "output_type": "display_data"
    },
    {
     "data": {
      "application/vnd.jupyter.widget-view+json": {
       "model_id": "",
       "version_major": 2,
       "version_minor": 0
      },
      "text/plain": [
       "Geometry:   0%|          | 0/26 [00:00<?, ?it/s]"
      ]
     },
     "metadata": {},
     "output_type": "display_data"
    },
    {
     "data": {
      "application/vnd.jupyter.widget-view+json": {
       "model_id": "5e667c17f1884743bddbc85884ea3ffd",
       "version_major": 2,
       "version_minor": 0
      },
      "text/plain": [
       "Raster:   0%|          | 0/2 [00:00<?, ?it/s]"
      ]
     },
     "metadata": {},
     "output_type": "display_data"
    },
    {
     "data": {
      "application/vnd.jupyter.widget-view+json": {
       "model_id": "",
       "version_major": 2,
       "version_minor": 0
      },
      "text/plain": [
       "Geometry:   0%|          | 0/7 [00:00<?, ?it/s]"
      ]
     },
     "metadata": {},
     "output_type": "display_data"
    },
    {
     "data": {
      "application/vnd.jupyter.widget-view+json": {
       "model_id": "",
       "version_major": 2,
       "version_minor": 0
      },
      "text/plain": [
       "Geometry:   0%|          | 0/7 [00:00<?, ?it/s]"
      ]
     },
     "metadata": {},
     "output_type": "display_data"
    },
    {
     "data": {
      "application/vnd.jupyter.widget-view+json": {
       "model_id": "9f6bcb9abbb44b8f9f414b205b1a15e1",
       "version_major": 2,
       "version_minor": 0
      },
      "text/plain": [
       "Raster:   0%|          | 0/2 [00:00<?, ?it/s]"
      ]
     },
     "metadata": {},
     "output_type": "display_data"
    },
    {
     "data": {
      "application/vnd.jupyter.widget-view+json": {
       "model_id": "",
       "version_major": 2,
       "version_minor": 0
      },
      "text/plain": [
       "Geometry:   0%|          | 0/8 [00:00<?, ?it/s]"
      ]
     },
     "metadata": {},
     "output_type": "display_data"
    },
    {
     "data": {
      "application/vnd.jupyter.widget-view+json": {
       "model_id": "",
       "version_major": 2,
       "version_minor": 0
      },
      "text/plain": [
       "Geometry:   0%|          | 0/8 [00:00<?, ?it/s]"
      ]
     },
     "metadata": {},
     "output_type": "display_data"
    },
    {
     "data": {
      "application/vnd.jupyter.widget-view+json": {
       "model_id": "ee69613219a948ecb92d91c2344d90bc",
       "version_major": 2,
       "version_minor": 0
      },
      "text/plain": [
       "Raster:   0%|          | 0/2 [00:00<?, ?it/s]"
      ]
     },
     "metadata": {},
     "output_type": "display_data"
    },
    {
     "data": {
      "application/vnd.jupyter.widget-view+json": {
       "model_id": "",
       "version_major": 2,
       "version_minor": 0
      },
      "text/plain": [
       "Geometry:   0%|          | 0/55 [00:00<?, ?it/s]"
      ]
     },
     "metadata": {},
     "output_type": "display_data"
    },
    {
     "data": {
      "application/vnd.jupyter.widget-view+json": {
       "model_id": "",
       "version_major": 2,
       "version_minor": 0
      },
      "text/plain": [
       "Geometry:   0%|          | 0/55 [00:00<?, ?it/s]"
      ]
     },
     "metadata": {},
     "output_type": "display_data"
    },
    {
     "data": {
      "application/vnd.jupyter.widget-view+json": {
       "model_id": "d5bac688c6d2487aa256c4ee613ef72d",
       "version_major": 2,
       "version_minor": 0
      },
      "text/plain": [
       "Raster:   0%|          | 0/2 [00:00<?, ?it/s]"
      ]
     },
     "metadata": {},
     "output_type": "display_data"
    },
    {
     "data": {
      "application/vnd.jupyter.widget-view+json": {
       "model_id": "",
       "version_major": 2,
       "version_minor": 0
      },
      "text/plain": [
       "Geometry:   0%|          | 0/58 [00:00<?, ?it/s]"
      ]
     },
     "metadata": {},
     "output_type": "display_data"
    },
    {
     "data": {
      "application/vnd.jupyter.widget-view+json": {
       "model_id": "",
       "version_major": 2,
       "version_minor": 0
      },
      "text/plain": [
       "Geometry:   0%|          | 0/58 [00:00<?, ?it/s]"
      ]
     },
     "metadata": {},
     "output_type": "display_data"
    },
    {
     "data": {
      "application/vnd.jupyter.widget-view+json": {
       "model_id": "1f2b41a2f58f4be29d515f2bad53cb40",
       "version_major": 2,
       "version_minor": 0
      },
      "text/plain": [
       "Raster:   0%|          | 0/2 [00:00<?, ?it/s]"
      ]
     },
     "metadata": {},
     "output_type": "display_data"
    },
    {
     "data": {
      "application/vnd.jupyter.widget-view+json": {
       "model_id": "",
       "version_major": 2,
       "version_minor": 0
      },
      "text/plain": [
       "Geometry:   0%|          | 0/48 [00:00<?, ?it/s]"
      ]
     },
     "metadata": {},
     "output_type": "display_data"
    },
    {
     "data": {
      "application/vnd.jupyter.widget-view+json": {
       "model_id": "",
       "version_major": 2,
       "version_minor": 0
      },
      "text/plain": [
       "Geometry:   0%|          | 0/48 [00:00<?, ?it/s]"
      ]
     },
     "metadata": {},
     "output_type": "display_data"
    },
    {
     "data": {
      "application/vnd.jupyter.widget-view+json": {
       "model_id": "38c0065250b14c7cb289d3db2632b252",
       "version_major": 2,
       "version_minor": 0
      },
      "text/plain": [
       "Raster:   0%|          | 0/2 [00:00<?, ?it/s]"
      ]
     },
     "metadata": {},
     "output_type": "display_data"
    },
    {
     "data": {
      "application/vnd.jupyter.widget-view+json": {
       "model_id": "",
       "version_major": 2,
       "version_minor": 0
      },
      "text/plain": [
       "Geometry:   0%|          | 0/63 [00:00<?, ?it/s]"
      ]
     },
     "metadata": {},
     "output_type": "display_data"
    },
    {
     "data": {
      "application/vnd.jupyter.widget-view+json": {
       "model_id": "",
       "version_major": 2,
       "version_minor": 0
      },
      "text/plain": [
       "Geometry:   0%|          | 0/63 [00:00<?, ?it/s]"
      ]
     },
     "metadata": {},
     "output_type": "display_data"
    },
    {
     "data": {
      "application/vnd.jupyter.widget-view+json": {
       "model_id": "469995f853ea41fb8722350b897632de",
       "version_major": 2,
       "version_minor": 0
      },
      "text/plain": [
       "Raster:   0%|          | 0/2 [00:00<?, ?it/s]"
      ]
     },
     "metadata": {},
     "output_type": "display_data"
    },
    {
     "data": {
      "application/vnd.jupyter.widget-view+json": {
       "model_id": "",
       "version_major": 2,
       "version_minor": 0
      },
      "text/plain": [
       "Geometry:   0%|          | 0/78 [00:00<?, ?it/s]"
      ]
     },
     "metadata": {},
     "output_type": "display_data"
    },
    {
     "data": {
      "application/vnd.jupyter.widget-view+json": {
       "model_id": "",
       "version_major": 2,
       "version_minor": 0
      },
      "text/plain": [
       "Geometry:   0%|          | 0/78 [00:00<?, ?it/s]"
      ]
     },
     "metadata": {},
     "output_type": "display_data"
    },
    {
     "data": {
      "application/vnd.jupyter.widget-view+json": {
       "model_id": "793942db706b431281e6d188a2d56119",
       "version_major": 2,
       "version_minor": 0
      },
      "text/plain": [
       "Raster:   0%|          | 0/2 [00:00<?, ?it/s]"
      ]
     },
     "metadata": {},
     "output_type": "display_data"
    },
    {
     "data": {
      "application/vnd.jupyter.widget-view+json": {
       "model_id": "",
       "version_major": 2,
       "version_minor": 0
      },
      "text/plain": [
       "Geometry:   0%|          | 0/61 [00:00<?, ?it/s]"
      ]
     },
     "metadata": {},
     "output_type": "display_data"
    },
    {
     "data": {
      "application/vnd.jupyter.widget-view+json": {
       "model_id": "",
       "version_major": 2,
       "version_minor": 0
      },
      "text/plain": [
       "Geometry:   0%|          | 0/61 [00:00<?, ?it/s]"
      ]
     },
     "metadata": {},
     "output_type": "display_data"
    },
    {
     "data": {
      "application/vnd.jupyter.widget-view+json": {
       "model_id": "3659cca3dbcd4da38b5d90f78f4c8586",
       "version_major": 2,
       "version_minor": 0
      },
      "text/plain": [
       "Raster:   0%|          | 0/2 [00:00<?, ?it/s]"
      ]
     },
     "metadata": {},
     "output_type": "display_data"
    },
    {
     "data": {
      "application/vnd.jupyter.widget-view+json": {
       "model_id": "",
       "version_major": 2,
       "version_minor": 0
      },
      "text/plain": [
       "Geometry:   0%|          | 0/57 [00:00<?, ?it/s]"
      ]
     },
     "metadata": {},
     "output_type": "display_data"
    },
    {
     "data": {
      "application/vnd.jupyter.widget-view+json": {
       "model_id": "",
       "version_major": 2,
       "version_minor": 0
      },
      "text/plain": [
       "Geometry:   0%|          | 0/57 [00:00<?, ?it/s]"
      ]
     },
     "metadata": {},
     "output_type": "display_data"
    },
    {
     "data": {
      "application/vnd.jupyter.widget-view+json": {
       "model_id": "b3b8ec49aea74e22a52368a1c9dcab84",
       "version_major": 2,
       "version_minor": 0
      },
      "text/plain": [
       "Raster:   0%|          | 0/2 [00:00<?, ?it/s]"
      ]
     },
     "metadata": {},
     "output_type": "display_data"
    },
    {
     "data": {
      "application/vnd.jupyter.widget-view+json": {
       "model_id": "",
       "version_major": 2,
       "version_minor": 0
      },
      "text/plain": [
       "Geometry:   0%|          | 0/15 [00:00<?, ?it/s]"
      ]
     },
     "metadata": {},
     "output_type": "display_data"
    },
    {
     "data": {
      "application/vnd.jupyter.widget-view+json": {
       "model_id": "",
       "version_major": 2,
       "version_minor": 0
      },
      "text/plain": [
       "Geometry:   0%|          | 0/15 [00:00<?, ?it/s]"
      ]
     },
     "metadata": {},
     "output_type": "display_data"
    },
    {
     "data": {
      "application/vnd.jupyter.widget-view+json": {
       "model_id": "3b908e18515d4cd6b4be6e3de4d5207d",
       "version_major": 2,
       "version_minor": 0
      },
      "text/plain": [
       "Raster:   0%|          | 0/2 [00:00<?, ?it/s]"
      ]
     },
     "metadata": {},
     "output_type": "display_data"
    },
    {
     "data": {
      "application/vnd.jupyter.widget-view+json": {
       "model_id": "",
       "version_major": 2,
       "version_minor": 0
      },
      "text/plain": [
       "Geometry:   0%|          | 0/29 [00:00<?, ?it/s]"
      ]
     },
     "metadata": {},
     "output_type": "display_data"
    },
    {
     "data": {
      "application/vnd.jupyter.widget-view+json": {
       "model_id": "",
       "version_major": 2,
       "version_minor": 0
      },
      "text/plain": [
       "Geometry:   0%|          | 0/29 [00:00<?, ?it/s]"
      ]
     },
     "metadata": {},
     "output_type": "display_data"
    }
   ],
   "source": [
    "# create a list of subset points for each month and use that to pull raster data\n",
    "band_names = ['csiro_bare', 'csiro_pv', 'csiro_npv', 'eli_bare', 'eli_pv', 'eli_npv']\n",
    "monthly_dfs = []\n",
    "\n",
    "for month in months:\n",
    "    earthlib_path = os.path.join(data_dir, f\"FC.v310.EARTHLIB.A2010.{month:02d}.aust.006.tif\")\n",
    "    csiro_path = os.path.join(data_dir, f\"FC.v310.MCD43A4.A2010.{month:02d}.aust.006.tif\")\n",
    "    subset = merged[merged['month'] == month]\n",
    "    \n",
    "    anno = ela.raster_values_from_geoseries(\n",
    "        subset.geometry,\n",
    "        [csiro_path, earthlib_path],\n",
    "        labels=band_names,\n",
    "        drop_na=False,\n",
    "    )\n",
    "    \n",
    "    anno['field_abundance'] = subset['field_cover']\n",
    "    anno['month'] = subset['month']\n",
    "    anno['site_id'] = subset['site_id']\n",
    "    monthly_dfs.append(anno)\n",
    "    \n",
    "annotated = gpd.GeoDataFrame(pd.concat(monthly_dfs, ignore_index=True), crs=merged.crs)\n",
    "annotated.to_file(anno_cover_path, driver='GPKG')"
   ]
  },
  {
   "cell_type": "markdown",
   "id": "3bd7ac01",
   "metadata": {},
   "source": [
    "## Quantitative comparison\n",
    "\n",
    "Now that we have co-alignment between the CSIRO field data, the CSIRO unmixing data, and `earthlib` unmxing data, we'll compare how each remote sensing dataset matches up with the field measurements using standard goodness-of-fit metrics."
   ]
  },
  {
   "cell_type": "code",
   "execution_count": 134,
   "id": "477e4d99",
   "metadata": {},
   "outputs": [],
   "source": [
    "# re-read the data if reloading the notebook\n",
    "rerun = True\n",
    "if rerun:\n",
    "    annotated = gpd.read_file(anno_cover_path)\n",
    "\n",
    "# filter nodata pixels prior to computing stats\n",
    "csiro_valid = annotated['csiro_pv'] != 255\n",
    "eli_valid = annotated['eli_pv'] != 255\n",
    "eli_low = annotated['eli_pv'] < 90\n",
    "valid = csiro_valid * eli_valid * eli_low\n",
    "annotated = annotated[valid]"
   ]
  },
  {
   "cell_type": "code",
   "execution_count": 135,
   "id": "e217b95a",
   "metadata": {},
   "outputs": [
    {
     "name": "stdout",
     "output_type": "stream",
     "text": [
      "CSIRO | 0.46 r | 11.45 mae | -4.99 r2 | 17.36 rmse\n",
      "ELI   | 0.42 r | 10.29 mae | -4.32 r2 | 16.36 rmse\n"
     ]
    }
   ],
   "source": [
    "csiro_r2 = metrics.r2_score(annotated['field_abundance'], annotated['csiro_pv'])\n",
    "csiro_rmse = np.sqrt(metrics.mean_squared_error(annotated['field_abundance'], annotated['csiro_pv']))\n",
    "csiro_mae = metrics.mean_absolute_error(annotated['field_abundance'], annotated['csiro_pv'])\n",
    "csiro_r = np.corrcoef(annotated['field_abundance'], annotated['csiro_pv'])[0][1]\n",
    "\n",
    "eli_r2 = metrics.r2_score(annotated['field_abundance'], annotated['eli_pv'])\n",
    "eli_rmse = np.sqrt(metrics.mean_squared_error(annotated['field_abundance'], annotated['eli_pv']))\n",
    "eli_mae = metrics.mean_absolute_error(annotated['field_abundance'], annotated['eli_pv'])\n",
    "eli_r = np.corrcoef(annotated['field_abundance'], annotated['eli_pv'])[0][1]\n",
    "\n",
    "print(f\"CSIRO | {csiro_r:0.2f} r | {csiro_mae:0.2f} mae | {csiro_r2:0.2f} r2 | {csiro_rmse:0.2f} rmse\")\n",
    "print(f\"ELI   | {eli_r:0.2f} r | {eli_mae:0.2f} mae | {eli_r2:0.2f} r2 | {eli_rmse:0.2f} rmse\")"
   ]
  },
  {
   "cell_type": "code",
   "execution_count": 128,
   "id": "d3b8774c",
   "metadata": {},
   "outputs": [
    {
     "data": {
      "text/plain": [
       "17.206759443339962"
      ]
     },
     "execution_count": 128,
     "metadata": {},
     "output_type": "execute_result"
    }
   ],
   "source": [
    "annotated['eli_pv'].mean()"
   ]
  },
  {
   "cell_type": "code",
   "execution_count": 133,
   "id": "69fdbda2",
   "metadata": {},
   "outputs": [
    {
     "data": {
      "text/plain": [
       "<matplotlib.collections.PolyCollection at 0x7adae1ad8b50>"
      ]
     },
     "execution_count": 133,
     "metadata": {},
     "output_type": "execute_result"
    },
    {
     "data": {
      "image/png": "[encoded data removed]",
      "text/plain": [
       "<Figure size 800x800 with 1 Axes>"
      ]
     },
     "metadata": {
      "needs_background": "light"
     },
     "output_type": "display_data"
    }
   ],
   "source": [
    "# plot 'em\n",
    "figsize = (4, 4)\n",
    "dpi = 200\n",
    "extent = [0, 33, 0, 33]\n",
    "\n",
    "plt.figure(figsize=figsize, dpi=dpi)\n",
    "plt.hexbin(\n",
    "    annotated['field_abundance'],\n",
    "    annotated['eli_pv'],\n",
    "    bins='log',\n",
    "    cmap='inferno',\n",
    "    mincnt=1,\n",
    "    gridsize=15,\n",
    "    extent=extent,\n",
    ")"
   ]
  }
 ],
 "metadata": {
  "kernelspec": {
   "display_name": "Python 3 (ipykernel)",
   "language": "python",
   "name": "python3"
  },
  "language_info": {
   "codemirror_mode": {
    "name": "ipython",
    "version": 3
   },
   "file_extension": ".py",
   "mimetype": "text/x-python",
   "name": "python",
   "nbconvert_exporter": "python",
   "pygments_lexer": "ipython3",
   "version": "3.7.12"
  }
 },
 "nbformat": 4,
 "nbformat_minor": 5
}
